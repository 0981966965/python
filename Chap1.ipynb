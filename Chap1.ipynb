{
  "nbformat": 4,
  "nbformat_minor": 0,
  "metadata": {
    "colab": {
      "name": " Chap1",
      "provenance": [],
      "collapsed_sections": []
    },
    "kernelspec": {
      "name": "python3",
      "display_name": "Python 3"
    },
    "language_info": {
      "name": "python"
    }
  },
  "cells": [
    {
      "cell_type": "markdown",
      "source": [
        "# Chap 1 運算數、變數與資料型別\n",
        "## 註解"
      ],
      "metadata": {
        "id": "VyQY6i5WFh5Y"
      }
    },
    {
      "cell_type": "code",
      "execution_count": null,
      "metadata": {
        "colab": {
          "base_uri": "https://localhost:8080/"
        },
        "id": "Etvrwd0xEYXZ",
        "outputId": "81c842b2-1961-4f9d-f773-f842e8cef9c7"
      },
      "outputs": [
        {
          "output_type": "stream",
          "name": "stdout",
          "text": [
            "8\n"
          ]
        }
      ],
      "source": [
        "a=3 #註解\n",
        "b=5\n",
        "print(a+b)"
      ]
    },
    {
      "cell_type": "code",
      "source": [
        "'''\n",
        "多行註解\n",
        "多行註解\n",
        "多行註解\n",
        "'''\n",
        "a=3\n",
        "b=5\n",
        "print(a+b)"
      ],
      "metadata": {
        "colab": {
          "base_uri": "https://localhost:8080/"
        },
        "id": "CIwmiB6gIhMY",
        "outputId": "6cbcb5ec-cfcb-4f53-baaf-342edd234a32"
      },
      "execution_count": null,
      "outputs": [
        {
          "output_type": "stream",
          "name": "stdout",
          "text": [
            "8\n"
          ]
        }
      ]
    },
    {
      "cell_type": "markdown",
      "source": [
        "運算式"
      ],
      "metadata": {
        "id": "0Dzy-mQqIl-n"
      }
    },
    {
      "cell_type": "code",
      "source": [
        "a=5\n",
        "b=3  #透過第三變數C，交換a,b的值\n",
        "c=a\n",
        "a=b\n",
        "b=c\n",
        "print(a)\n",
        "print(b)"
      ],
      "metadata": {
        "colab": {
          "base_uri": "https://localhost:8080/"
        },
        "id": "6OHSMhk1JiiY",
        "outputId": "5805030e-54e7-4040-f084-317872cd83c3"
      },
      "execution_count": null,
      "outputs": [
        {
          "output_type": "stream",
          "name": "stdout",
          "text": [
            "3\n",
            "5\n"
          ]
        }
      ]
    },
    {
      "cell_type": "code",
      "source": [
        "a=5 #不透過第三變數，交換a,b的值\n",
        "b=3\n",
        "a=a+b\n",
        "b=a-b\n",
        "a=a-b\n",
        "print(a)\n",
        "print(b)\n"
      ],
      "metadata": {
        "colab": {
          "base_uri": "https://localhost:8080/"
        },
        "id": "_VfV-lUrJweI",
        "outputId": "43a92ba4-f637-4613-e004-1e2fe2e6d388"
      },
      "execution_count": null,
      "outputs": [
        {
          "output_type": "stream",
          "name": "stdout",
          "text": [
            "3\n",
            "5\n"
          ]
        }
      ]
    },
    {
      "cell_type": "code",
      "source": [
        "a=5\n",
        "b=3\n",
        "a,b=b,a\n",
        "print(a)\n",
        "print(b)"
      ],
      "metadata": {
        "colab": {
          "base_uri": "https://localhost:8080/"
        },
        "id": "hNpNhIg4J_rY",
        "outputId": "cdb9de81-d4dd-4869-87d9-0cefa843e3f7"
      },
      "execution_count": null,
      "outputs": [
        {
          "output_type": "stream",
          "name": "stdout",
          "text": [
            "3\n",
            "5\n"
          ]
        }
      ]
    },
    {
      "cell_type": "markdown",
      "source": [
        "變數\n",
        "變數的平行設定"
      ],
      "metadata": {
        "id": "CZT5ZcTBI-HY"
      }
    },
    {
      "cell_type": "code",
      "source": [
        "x, y, z= 3, 4, 5\n",
        "print(x)\n",
        "print(y)\n",
        "print(z)"
      ],
      "metadata": {
        "colab": {
          "base_uri": "https://localhost:8080/"
        },
        "id": "XloH3eFYI6Ih",
        "outputId": "7daede47-f46f-4fb7-fb33-007476d99fe6"
      },
      "execution_count": null,
      "outputs": [
        {
          "output_type": "stream",
          "name": "stdout",
          "text": [
            "3\n",
            "4\n",
            "5\n"
          ]
        }
      ]
    },
    {
      "cell_type": "code",
      "source": [
        "x, y, z = 3, 4, 5\n",
        "x += 1 #x=x+1\n",
        "y *= 2 #y=y*2\n",
        "z **= 3 #z^3\n",
        "print(x, y, z)"
      ],
      "metadata": {
        "colab": {
          "base_uri": "https://localhost:8080/"
        },
        "id": "KTWrHt68JDaZ",
        "outputId": "d4e11ecc-78bc-4f43-809d-5a76aa142ba8"
      },
      "execution_count": null,
      "outputs": [
        {
          "output_type": "stream",
          "name": "stdout",
          "text": [
            "4 8 125\n"
          ]
        }
      ]
    },
    {
      "cell_type": "markdown",
      "source": [
        "Q：邊長為10的圓形，其面積大小為何?"
      ],
      "metadata": {
        "id": "syC8EJ5-TiVV"
      }
    },
    {
      "cell_type": "code",
      "source": [
        "import math\n",
        "r=10\n",
        "print(r*r*math.pi)\n"
      ],
      "metadata": {
        "colab": {
          "base_uri": "https://localhost:8080/"
        },
        "id": "oStKkDXZJDiB",
        "outputId": "fb350d71-2852-49b9-bb87-88bc2a1b30b7"
      },
      "execution_count": null,
      "outputs": [
        {
          "output_type": "stream",
          "name": "stdout",
          "text": [
            "314.1592653589793\n"
          ]
        }
      ]
    },
    {
      "cell_type": "code",
      "source": [
        "import math\n",
        "r=eval (input(\"請輸入圓的半徑:\"))\n",
        "print(r * r * math.pi)\n"
      ],
      "metadata": {
        "colab": {
          "base_uri": "https://localhost:8080/"
        },
        "id": "YJ3nXcGjVvfO",
        "outputId": "cc367c8f-cb77-4235-bb7c-b60ccc71f5af"
      },
      "execution_count": null,
      "outputs": [
        {
          "output_type": "stream",
          "name": "stdout",
          "text": [
            "請輸入圓的半徑:5*2\n",
            "314.1592653589793\n"
          ]
        }
      ]
    },
    {
      "cell_type": "code",
      "source": [
        "x=254\n",
        "print(type(x))\n",
        "y=254.0\n",
        "print(type(y))\n",
        "z=\"write\"\n",
        "print(type(z))\n",
        "print(type(x==y))"
      ],
      "metadata": {
        "colab": {
          "base_uri": "https://localhost:8080/"
        },
        "id": "F-kMYieRGmPh",
        "outputId": "20a92a7a-20b4-488c-84da-745ca977c54e"
      },
      "execution_count": null,
      "outputs": [
        {
          "output_type": "stream",
          "name": "stdout",
          "text": [
            "<class 'int'>\n",
            "<class 'float'>\n",
            "<class 'str'>\n",
            "<class 'bool'>\n"
          ]
        }
      ]
    },
    {
      "cell_type": "markdown",
      "source": [
        "算術符號"
      ],
      "metadata": {
        "id": "S04oFQQyKJVN"
      }
    },
    {
      "cell_type": "code",
      "source": [
        "x=10\n",
        "y=3\n",
        "print(x/y) #求值\n",
        "print(x//y) #求商\n",
        "print(x%y) #求餘數"
      ],
      "metadata": {
        "colab": {
          "base_uri": "https://localhost:8080/"
        },
        "id": "v8wVpe50JI8W",
        "outputId": "c41eff37-5f6f-4bfc-862e-1d22d0bf9fa4"
      },
      "execution_count": null,
      "outputs": [
        {
          "output_type": "stream",
          "name": "stdout",
          "text": [
            "3.3333333333333335\n",
            "3\n",
            "1\n"
          ]
        }
      ]
    },
    {
      "cell_type": "markdown",
      "source": [
        "算術符號順序\n",
        "( ) > ** > * > + -"
      ],
      "metadata": {
        "id": "u-AbdOXXMvbl"
      }
    },
    {
      "cell_type": "code",
      "source": [
        "x=(5*(1+2)**2-3+4/2)\n",
        "print(x)"
      ],
      "metadata": {
        "colab": {
          "base_uri": "https://localhost:8080/"
        },
        "id": "xe6pgRPHMnMN",
        "outputId": "fcd43e66-c110-4d90-8871-7d340f1dfdf5"
      },
      "execution_count": null,
      "outputs": [
        {
          "output_type": "stream",
          "name": "stdout",
          "text": [
            "44.0\n"
          ]
        }
      ]
    },
    {
      "cell_type": "code",
      "source": [
        "x=\"must\"\n",
        "print(10*x)\n",
        "print(\"10\"+x)\n",
        "print(10,x)"
      ],
      "metadata": {
        "colab": {
          "base_uri": "https://localhost:8080/"
        },
        "id": "AgyMa5t-SVAN",
        "outputId": "666055f7-5674-4bd9-f24c-24d471fd8d0a"
      },
      "execution_count": null,
      "outputs": [
        {
          "output_type": "stream",
          "name": "stdout",
          "text": [
            "mustmustmustmustmustmustmustmustmustmust\n",
            "10must\n",
            "10 must\n"
          ]
        }
      ]
    },
    {
      "cell_type": "code",
      "source": [
        "x=12\n",
        "print(type(x))\n",
        "y=float(x)+0.5  #強制型別轉換\n",
        "print(type(y))\n",
        "print(y)\n",
        "print(int(y))\n",
        "print(int(\"12\"))\n",
        "print(float(\"12.5\"))\n",
        "print(eval(\"5.5*2\"))"
      ],
      "metadata": {
        "colab": {
          "base_uri": "https://localhost:8080/"
        },
        "id": "ILY4GYb_WCPU",
        "outputId": "7e201689-4b56-4df2-ba04-b576ac57ed26"
      },
      "execution_count": null,
      "outputs": [
        {
          "output_type": "stream",
          "name": "stdout",
          "text": [
            "<class 'int'>\n",
            "<class 'float'>\n",
            "12.5\n",
            "12\n",
            "12\n",
            "12.5\n",
            "11.0\n"
          ]
        }
      ]
    },
    {
      "cell_type": "code",
      "source": [
        "print(\"This\"+\"is\"+\"a\"+\"book\")\n",
        "print(\"This\",\"is\",\"a\",\"book\")\n",
        "print(\"This\")\n",
        "print(\"is\")\n",
        "print(\"a\")\n",
        "print(\"book\")"
      ],
      "metadata": {
        "colab": {
          "base_uri": "https://localhost:8080/"
        },
        "id": "RgNz2FSTGPQt",
        "outputId": "ca52d2df-73e9-400d-b13d-f10481b3ff4d"
      },
      "execution_count": 1,
      "outputs": [
        {
          "output_type": "stream",
          "name": "stdout",
          "text": [
            "Thisisabook\n",
            "This is a book\n",
            "This\n",
            "is\n",
            "a\n",
            "book\n"
          ]
        }
      ]
    },
    {
      "cell_type": "code",
      "source": [
        "print(\"This {} a book\".format(\"is\"))\n",
        "x=123456.7819\n",
        "print(\"{:.2f}\".format(x))\n",
        "print(\"{:,.2f}\".format(x))"
      ],
      "metadata": {
        "colab": {
          "base_uri": "https://localhost:8080/"
        },
        "id": "lVgYvYrWGUSJ",
        "outputId": "871cbc3e-54f2-451b-ef8b-32bfb7d0f3c2"
      },
      "execution_count": 2,
      "outputs": [
        {
          "output_type": "stream",
          "name": "stdout",
          "text": [
            "This is a book\n",
            "123456.78\n",
            "123,456.78\n"
          ]
        }
      ]
    },
    {
      "cell_type": "code",
      "source": [
        "print(\"This %10s a book%-10s\" % (\"is\",\"!\"))\n",
        "print(\"%7.3f\" % (687.4333))"
      ],
      "metadata": {
        "colab": {
          "base_uri": "https://localhost:8080/"
        },
        "id": "74PUoF6aGVlu",
        "outputId": "dd033d8c-1249-43b7-b7e2-6068c4cc2145"
      },
      "execution_count": 3,
      "outputs": [
        {
          "output_type": "stream",
          "name": "stdout",
          "text": [
            "This         is a book!         \n",
            "687.433\n"
          ]
        }
      ]
    }
  ]
}
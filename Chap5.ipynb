{
  "nbformat": 4,
  "nbformat_minor": 0,
  "metadata": {
    "colab": {
      "name": "Chap5",
      "provenance": [],
      "collapsed_sections": []
    },
    "kernelspec": {
      "name": "python3",
      "display_name": "Python 3"
    },
    "language_info": {
      "name": "python"
    }
  },
  "cells": [
    {
      "cell_type": "markdown",
      "source": [
        "## 函式\n",
        "### ●獨立出來的程式組\n",
        "### ●可以接收傳入值(多個) \n",
        "### ●輸出回傳值(一個)"
      ],
      "metadata": {
        "id": "dKfRqGE7boXV"
      }
    },
    {
      "cell_type": "code",
      "execution_count": 1,
      "metadata": {
        "colab": {
          "base_uri": "https://localhost:8080/"
        },
        "id": "tJ_c1f5VYzTt",
        "outputId": "06ef5ebd-66ac-4123-c18c-c89829d64fd4"
      },
      "outputs": [
        {
          "output_type": "stream",
          "name": "stdout",
          "text": [
            "請輸入圓的半徑: 4\n",
            "圓的面積為:  50.26548245743669\n"
          ]
        }
      ],
      "source": [
        "#傳統的寫法\n",
        "import math\n",
        "radius=eval(input(\"請輸入圓的半徑: \"))\n",
        "print(\"圓的面積為: \",radius * radius * math.pi)"
      ]
    },
    {
      "cell_type": "markdown",
      "source": [
        "##圓面積計算函式"
      ],
      "metadata": {
        "id": "TLuublxCbyyp"
      }
    },
    {
      "cell_type": "code",
      "source": [
        "import math\n",
        "def circle_area(radius):\n",
        "  area = radius * radius * math.pi\n",
        "  return area\n",
        "\n",
        "print(\"半徑10,圓面積為:\",circle_area(10))"
      ],
      "metadata": {
        "colab": {
          "base_uri": "https://localhost:8080/"
        },
        "id": "SOGmTXbNbwXX",
        "outputId": "432e1667-f7f7-4928-9fb6-9094cd17805f"
      },
      "execution_count": 2,
      "outputs": [
        {
          "output_type": "stream",
          "name": "stdout",
          "text": [
            "半徑10,圓面積為: 314.1592653589793\n"
          ]
        }
      ]
    }
  ]
}
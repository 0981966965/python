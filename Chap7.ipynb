{
  "nbformat": 4,
  "nbformat_minor": 0,
  "metadata": {
    "colab": {
      "name": "Chap7",
      "provenance": [],
      "collapsed_sections": []
    },
    "kernelspec": {
      "name": "python3",
      "display_name": "Python 3"
    },
    "language_info": {
      "name": "python"
    }
  },
  "cells": [
    {
      "cell_type": "markdown",
      "source": [
        "## Chap7 錯誤處理\n",
        "try:  \n",
        "except:  \n",
        "else:  \n",
        "finally:  "
      ],
      "metadata": {
        "id": "C6EDNmjSdYKm"
      }
    },
    {
      "cell_type": "code",
      "execution_count": 1,
      "metadata": {
        "colab": {
          "base_uri": "https://localhost:8080/",
          "height": 202
        },
        "id": "kQykIiaEY0Ha",
        "outputId": "b5f33a92-9de9-440a-b835-59080bb7c433"
      },
      "outputs": [
        {
          "output_type": "error",
          "ename": "NameError",
          "evalue": "ignored",
          "traceback": [
            "\u001b[0;31m---------------------------------------------------------------------------\u001b[0m",
            "\u001b[0;31mNameError\u001b[0m                                 Traceback (most recent call last)",
            "\u001b[0;32m<ipython-input-1-c19f432ee023>\u001b[0m in \u001b[0;36m<module>\u001b[0;34m()\u001b[0m\n\u001b[1;32m      2\u001b[0m \u001b[0mb\u001b[0m\u001b[0;34m=\u001b[0m\u001b[0;36m20\u001b[0m\u001b[0;34m\u001b[0m\u001b[0;34m\u001b[0m\u001b[0m\n\u001b[1;32m      3\u001b[0m \u001b[0;32mif\u001b[0m \u001b[0ma\u001b[0m\u001b[0;34m<\u001b[0m\u001b[0mb\u001b[0m\u001b[0;34m:\u001b[0m\u001b[0;34m\u001b[0m\u001b[0;34m\u001b[0m\u001b[0m\n\u001b[0;32m----> 4\u001b[0;31m     \u001b[0mprint\u001b[0m\u001b[0;34m(\u001b[0m\u001b[0mn\u001b[0m\u001b[0;34m)\u001b[0m\u001b[0;34m\u001b[0m\u001b[0;34m\u001b[0m\u001b[0m\n\u001b[0m",
            "\u001b[0;31mNameError\u001b[0m: name 'n' is not defined"
          ]
        }
      ],
      "source": [
        "a=10\n",
        "b=20\n",
        "if a<b:\n",
        "    print(n)"
      ]
    },
    {
      "cell_type": "markdown",
      "source": [
        "### 指定錯誤類別處理"
      ],
      "metadata": {
        "id": "fXsxx2PMdiea"
      }
    },
    {
      "cell_type": "code",
      "source": [
        "a=10\n",
        "b=20\n",
        "try:\n",
        "    if a<b:\n",
        "        print(n)\n",
        "except NameError as e:\n",
        "    print(\"錯誤產生, 錯誤原因：\",e)\n",
        "except ZeroDivisionError:\n",
        "    print(\"除以0錯誤\")"
      ],
      "metadata": {
        "colab": {
          "base_uri": "https://localhost:8080/"
        },
        "id": "q4ze1XHLdgaX",
        "outputId": "dbe13eca-0035-4b62-8bd7-3f20e6fa4dcb"
      },
      "execution_count": 2,
      "outputs": [
        {
          "output_type": "stream",
          "name": "stdout",
          "text": [
            "錯誤產生, 錯誤原因： name 'n' is not defined\n"
          ]
        }
      ]
    },
    {
      "cell_type": "markdown",
      "source": [
        "### else\n",
        "沒有錯誤產生會執行的部分"
      ],
      "metadata": {
        "id": "QfAF2lfPdvjC"
      }
    },
    {
      "cell_type": "code",
      "source": [
        "a=10\n",
        "b=20\n",
        "try:\n",
        "    if a>b:     #改變比較條件，讓錯誤不發生\n",
        "        print(n)\n",
        "except:\n",
        "    print(\"錯誤發生\")\n",
        "else:\n",
        "    print(\"沒有錯誤發生時會執行的部分\")"
      ],
      "metadata": {
        "colab": {
          "base_uri": "https://localhost:8080/"
        },
        "id": "GWaetatmdst1",
        "outputId": "cfcc8d1e-cc61-442d-f063-4868e9a8264f"
      },
      "execution_count": 3,
      "outputs": [
        {
          "output_type": "stream",
          "name": "stdout",
          "text": [
            "沒有錯誤發生時會執行的部分\n"
          ]
        }
      ]
    },
    {
      "cell_type": "code",
      "source": [
        "a=10\n",
        "b=20\n",
        "try:\n",
        "    if a>b:     #改變比較條件，讓錯誤不發生\n",
        "        print(n)\n",
        "except:\n",
        "    print(\"錯誤發生\")\n",
        "else:\n",
        "    print(\"沒有錯誤發生時會執行的部分\")\n",
        "finally:\n",
        "    print(\"不管有沒有錯誤一定會執行的部分\")"
      ],
      "metadata": {
        "colab": {
          "base_uri": "https://localhost:8080/"
        },
        "id": "3EFl8iKWd1pB",
        "outputId": "dda2b97b-ec75-42ca-f8b6-68dfbf1f75b6"
      },
      "execution_count": 4,
      "outputs": [
        {
          "output_type": "stream",
          "name": "stdout",
          "text": [
            "沒有錯誤發生時會執行的部分\n",
            "不管有沒有錯誤一定會執行的部分\n"
          ]
        }
      ]
    }
  ]
}
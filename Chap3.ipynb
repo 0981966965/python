{
  "nbformat": 4,
  "nbformat_minor": 0,
  "metadata": {
    "colab": {
      "name": "Chap3",
      "provenance": [],
      "collapsed_sections": []
    },
    "kernelspec": {
      "name": "python3",
      "display_name": "Python 3"
    },
    "language_info": {
      "name": "python"
    }
  },
  "cells": [
    {
      "cell_type": "markdown",
      "source": [
        "## Python物件\n",
        "## List[串列] Tuple(元組) Dictionary{字典} Sets{集合}"
      ],
      "metadata": {
        "id": "ZBpWtWm8Z996"
      }
    },
    {
      "cell_type": "markdown",
      "source": [
        "## List[串列]\n",
        "使用中括號[]包裹元素"
      ],
      "metadata": {
        "id": "RqWjSb_jaE78"
      }
    },
    {
      "cell_type": "code",
      "execution_count": 1,
      "metadata": {
        "colab": {
          "base_uri": "https://localhost:8080/"
        },
        "id": "odyVaHWoYwgP",
        "outputId": "10c61d43-d041-4d61-84c4-c2ed874679fc"
      },
      "outputs": [
        {
          "output_type": "stream",
          "name": "stdout",
          "text": [
            "[]\n",
            "['python', 'javascript', 'c#']\n",
            "3\n",
            "c#\n"
          ]
        }
      ],
      "source": [
        "my_list0=[]\n",
        "print(my_list0)\n",
        "my_list1=list()\n",
        "my_list2=['python','javascript','c#']\n",
        "print(my_list2)\n",
        "print(len(my_list2)) #len:計算list的長度\n",
        "print(my_list2[2])"
      ]
    },
    {
      "cell_type": "code",
      "source": [
        "my_list2=['python','javascript','c#']\n",
        "my_list2.append('java') #append:附加在最後面\n",
        "print(my_list2)\n",
        "my_list2.remove('java') #remove:移除\n",
        "print(my_list2)\n",
        "my_list2.insert(0,'java') #insert:插入物件,需要指定索引位置\n",
        "print(my_list2)\n",
        "my_list2.clear() #clear:清除所有物件\n",
        "print(my_list2)"
      ],
      "metadata": {
        "colab": {
          "base_uri": "https://localhost:8080/"
        },
        "id": "CuWix1g6aQCw",
        "outputId": "a4914dbe-ae9a-46ba-9314-a7f06c860255"
      },
      "execution_count": 2,
      "outputs": [
        {
          "output_type": "stream",
          "name": "stdout",
          "text": [
            "['python', 'javascript', 'c#', 'java']\n",
            "['python', 'javascript', 'c#']\n",
            "['java', 'python', 'javascript', 'c#']\n",
            "[]\n"
          ]
        }
      ]
    },
    {
      "cell_type": "code",
      "source": [
        "a=[1,2,3]\n",
        "b=[4,5,6]\n",
        "c=a+b\n",
        "print(c)\n",
        "d=a*2\n",
        "print(d)"
      ],
      "metadata": {
        "colab": {
          "base_uri": "https://localhost:8080/"
        },
        "id": "4thyw37DaTJo",
        "outputId": "ad66fc03-45a4-4da7-958f-3f8c062392fe"
      },
      "execution_count": 3,
      "outputs": [
        {
          "output_type": "stream",
          "name": "stdout",
          "text": [
            "[1, 2, 3, 4, 5, 6]\n",
            "[1, 2, 3, 1, 2, 3]\n"
          ]
        }
      ]
    }
  ]
}